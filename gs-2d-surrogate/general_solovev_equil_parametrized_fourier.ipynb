{
 "cells": [
  {
   "cell_type": "markdown",
   "metadata": {},
   "source": [
    "## Modified Slim"
   ]
  },
  {
   "cell_type": "code",
   "execution_count": 1,
   "metadata": {
    "scrolled": true
   },
   "outputs": [
    {
     "name": "stdout",
     "output_type": "stream",
     "text": [
      "Using TensorFlow 2 backend.\n",
      "\n",
      "WARNING:tensorflow:From /Users/alankaptanoglu/anaconda3/lib/python3.7/site-packages/tensorflow/python/compat/v2_compat.py:107: disable_resource_variables (from tensorflow.python.ops.variable_scope) is deprecated and will be removed in a future version.\n",
      "Instructions for updating:\n",
      "non-resource variables are not supported in the long term\n",
      "(4, 4, 4, 4)\n",
      "(100, 4, 4, 4, 4, 4, 7) (100, 4, 4, 4, 4, 4)\n",
      "Done with initializing geometry\n",
      "Done with initializing train data\n",
      "Done with initializing test data\n",
      "Done with initializing random data\n",
      "starting BC\n",
      "Done with BC\n"
     ]
    },
    {
     "name": "stderr",
     "output_type": "stream",
     "text": [
      "/Users/alankaptanoglu/deepxde_copy/deepxde/geometry/geometry_nd.py:391: FutureWarning: Using a non-tuple sequence for multidimensional indexing is deprecated; use `arr[tuple(seq)]` instead of `arr[seq]`. In the future this will be interpreted as an array index, `arr[np.array(seq)]`, which will result either in an error or a different result.\n",
      "  Rm_grid_partial[slc] = Rm\n",
      "/Users/alankaptanoglu/deepxde_copy/deepxde/geometry/geometry_nd.py:392: FutureWarning: Using a non-tuple sequence for multidimensional indexing is deprecated; use `arr[tuple(seq)]` instead of `arr[seq]`. In the future this will be interpreted as an array index, `arr[np.array(seq)]`, which will result either in an error or a different result.\n",
      "  Zm_grid_partial[slc] = Zm\n",
      "/Users/alankaptanoglu/anaconda3/lib/python3.7/site-packages/ipykernel_launcher.py:72: FutureWarning: Using a non-tuple sequence for multidimensional indexing is deprecated; use `arr[tuple(seq)]` instead of `arr[seq]`. In the future this will be interpreted as an array index, `arr[np.array(seq)]`, which will result either in an error or a different result.\n",
      "/Users/alankaptanoglu/anaconda3/lib/python3.7/site-packages/ipykernel_launcher.py:73: FutureWarning: Using a non-tuple sequence for multidimensional indexing is deprecated; use `arr[tuple(seq)]` instead of `arr[seq]`. In the future this will be interpreted as an array index, `arr[np.array(seq)]`, which will result either in an error or a different result.\n"
     ]
    }
   ],
   "source": [
    "from __future__ import absolute_import\n",
    "from __future__ import division\n",
    "from __future__ import print_function\n",
    "\n",
    "import numpy as np\n",
    "from matplotlib import pyplot as plt\n",
    "import deepxde as dde\n",
    "\n",
    "######################\n",
    "# ITER shape #\n",
    "######################\n",
    "Amax = 0.1\n",
    "num_param = 4\n",
    "Arange = np.linspace(-Amax, Amax, num_param)\n",
    "mpol = 2\n",
    "RZm_max = 0.3\n",
    "Rm = np.linspace(-RZm_max, RZm_max, num_param)\n",
    "Zm = np.linspace(-RZm_max, RZm_max, num_param)\n",
    "# begin with perfectly circular cross-section\n",
    "center = np.zeros((3 + 2 * mpol))\n",
    "minor_radius = 0.5\n",
    "\n",
    "def gen_traindata(num):\n",
    "    N = num\n",
    "    tau = np.linspace(0, 2 * np.pi, N)\n",
    "    Rm_grid = Rm\n",
    "    Zm_grid = Zm\n",
    "    for i in range(mpol + 1):\n",
    "        Rm_grid = np.outer(Rm_grid, Rm).reshape(2 * mpol * np.ones(i + 2, dtype=int))\n",
    "        Zm_grid = np.outer(Zm_grid, Zm).reshape(2 * mpol * np.ones(i + 2, dtype=int))\n",
    "\n",
    "    # assume that minor radius R(0, 0) = 1\n",
    "    R_ellipse = np.ones((N, num_param, *Rm_grid.shape))\n",
    "    R0 = np.outer(\n",
    "        minor_radius * np.cos(tau),\n",
    "        np.ravel(np.ones((num_param, *Rm_grid.shape)))\n",
    "        ).reshape(R_ellipse.shape)\n",
    "    R_ellipse = (1 + R0) * R_ellipse\n",
    "\n",
    "    # Z(0, 0) = 0\n",
    "    Z_ellipse = np.ones((N, num_param, *Rm_grid.shape))\n",
    "    Z0 = np.outer(\n",
    "        minor_radius * np.sin(tau),\n",
    "        np.ravel(np.ones((num_param, *Rm_grid.shape)))\n",
    "        ).reshape(Z_ellipse.shape)\n",
    "    Z_ellipse = Z0 * Z_ellipse\n",
    "\n",
    "    A_ellipse = np.zeros((N, num_param, *Rm_grid.shape))\n",
    "\n",
    "    for i in range(num_param):\n",
    "        for m in range(1, mpol + 1):  # sum over m\n",
    "            R_ellipse[:, i, ...] += np.outer(np.cos(m * tau), Rm_grid).reshape(N, *Rm_grid.shape)\n",
    "            Z_ellipse[:, i, ...] += np.outer(np.sin(m * tau), Zm_grid).reshape(N, *Rm_grid.shape)\n",
    "        A_ellipse[:, i, ...] = Arange[i]\n",
    "\n",
    "    Rm_grid = np.ones((N, num_param, *Rm_grid.shape)) * Rm_grid\n",
    "    Zm_grid = np.ones((N, num_param, *Zm_grid.shape)) * Zm_grid\n",
    "\n",
    "    # Define boundary of hyper-cross-section\n",
    "    inds = np.roll(np.arange(0, len(Rm_grid.shape) + 1), -1)\n",
    "    x_ellipse = np.transpose(\n",
    "        np.array([R_ellipse, Z_ellipse, A_ellipse]),\n",
    "        inds\n",
    "    )\n",
    "    start = 0\n",
    "    end = num_param\n",
    "    for i in range(mpol):\n",
    "        Rm_grid_partial = np.ones(Rm_grid.shape)\n",
    "        Zm_grid_partial = np.ones(Zm_grid.shape)\n",
    "        slc = [slice(None)] * len(Rm_grid.shape)\n",
    "        slc[2 + i] = slice(start, end)\n",
    "        Rm_grid_partial[slc] = Rm\n",
    "        Zm_grid_partial[slc] = Zm\n",
    "        Rm_grid_partial = Rm_grid_partial.reshape(*Rm_grid_partial.shape, 1)\n",
    "        Zm_grid_partial = Zm_grid_partial.reshape(*Zm_grid_partial.shape, 1)\n",
    "        x_ellipse = np.concatenate([x_ellipse, Rm_grid_partial], axis=-1)\n",
    "        x_ellipse = np.concatenate([x_ellipse, Zm_grid_partial], axis=-1)\n",
    "\n",
    "    x_ellipse = x_ellipse.reshape(\n",
    "        N * num_param ** (1 + 2 * mpol),\n",
    "        3 + 2 * mpol\n",
    "    )\n",
    "    uvals = np.zeros(len(x_ellipse)).reshape(len(x_ellipse), 1)\n",
    "    return x_ellipse, uvals\n",
    "\n",
    "\n",
    "def pde_solovev(x, u):\n",
    "    psi = u[:, 0:1]\n",
    "    psi_r = dde.grad.jacobian(psi, x, i=0, j=0)\n",
    "    psi_rr = dde.grad.hessian(psi, x, i=0, j=0)\n",
    "    psi_zz = dde.grad.hessian(psi, x, i=1, j=1)\n",
    "    A = x[:, 2:3]\n",
    "    GS = psi_rr - psi_r / x[:, 0:1] + psi_zz - (1 - A) * x[:, 0:1] ** 2 - A\n",
    "    return GS\n",
    "\n",
    "def psi_r(x,u):\n",
    "    return dde.grad.jacobian(u, x, i=0, j=0)\n",
    "def psi_z(x,u):\n",
    "    return  dde.grad.jacobian(u, x, i=0, j=1)\n",
    "def psi_rr(x, u):\n",
    "    return dde.grad.hessian(u, x, i=0, j=0)\n",
    "def psi_zz(x, u):\n",
    "    return dde.grad.hessian(u, x, i=1, j=1)\n",
    "\n",
    "\n",
    "spatial_domain = dde.geometry.HyperFourierEllipse(\n",
    "    Amax=Amax, RZm_max=RZm_max, num_param=num_param, \n",
    "    mpol=mpol, minor_radius=minor_radius\n",
    ") \n",
    "print('Done with initializing geometry')\n",
    "\n",
    "x, u = gen_traindata(100)\n",
    "print('Done with initializing train data')\n",
    "\n",
    "n_test = 100\n",
    "x_test,u_test = gen_traindata(n_test)\n",
    "print('Done with initializing test data')\n",
    "\n",
    "x_domain = spatial_domain.random_points(n_test)\n",
    "print('Done with initializing random data')\n",
    "\n",
    "x_test = np.concatenate((x_test, x_domain))\n",
    "u_test = np.concatenate((u_test, np.zeros((n_test, 1))))\n",
    "\n",
    "print('starting BC')\n",
    "\n",
    "bc135 = dde.PointSetBC(x,u)\n",
    "print('Done with BC')\n",
    "\n",
    "data = dde.data.PDE(\n",
    "    spatial_domain,\n",
    "    pde_solovev,\n",
    "    [bc135],\n",
    "    num_domain=1000,\n",
    "    num_boundary=0,\n",
    "    x_test=x_test,\n",
    "    y_test=u_test,\n",
    "    train_distribution=\"LHS\"\n",
    ")\n"
   ]
  },
  {
   "cell_type": "code",
   "execution_count": 10,
   "metadata": {},
   "outputs": [
    {
     "name": "stdout",
     "output_type": "stream",
     "text": [
      "(100, 4, 4, 4, 4, 4)\n"
     ]
    },
    {
     "data": {
      "text/plain": [
       "<matplotlib.collections.PathCollection at 0x7fead4d12d50>"
      ]
     },
     "execution_count": 10,
     "metadata": {},
     "output_type": "execute_result"
    },
    {
     "data": {
      "image/png": "[encoded data removed]",
      "text/plain": [
       "<Figure size 432x288 with 1 Axes>"
      ]
     },
     "metadata": {
      "needs_background": "light"
     },
     "output_type": "display_data"
    }
   ],
   "source": [
    "print(spatial_domain.R_ellipse.shape)\n",
    "plt.scatter(spatial_domain.R_ellipse[:, 0, :, :, :, 0], \n",
    "            spatial_domain.Z_ellipse[:, 0, :, :, :, 0])\n",
    "\n",
    "#### ISSUE is that Rm and Zm sums over m are incorrect... need\n",
    "# to multiply m by the correct Rm and sum..."
   ]
  },
  {
   "cell_type": "code",
   "execution_count": null,
   "metadata": {},
   "outputs": [],
   "source": [
    "# Plot collocation points for visual check\n",
    "%matplotlib\n",
    "\n",
    "fig,ax=plt.subplots(1, figsize=(5,5))\n",
    "ax.scatter(data.train_x_bc[:,0], data.train_x_bc[:,1], s = 2, color='r')\n",
    "ax.set_title('Collocation Points')\n",
    "ax.set_xlabel('R/R_0')\n",
    "ax.set_ylabel(r'$u(r,z=0)$')\n",
    "\n",
    "fig =plt.figure(2, figsize=(5,5))\n",
    "ax = fig.add_subplot(projection='3d')\n",
    "ax.scatter(data.train_x[:,0], data.train_x[:,1], data.train_x[:,2], s = 2, color='b')\n",
    "ax.set_title('Collocation Points')\n",
    "ax.set_xlabel('R/R_0')\n",
    "ax.set_ylabel(r'$u(r,z=0)$')"
   ]
  },
  {
   "cell_type": "code",
   "execution_count": null,
   "metadata": {},
   "outputs": [],
   "source": [
    "from utils.gs_solovev_sol import GS_Linear\n",
    "# tokamak = GS_Linear(A=-0.155, eps= 2/6.2, kappa=1.6, delta=0.4)"
   ]
  },
  {
   "cell_type": "markdown",
   "metadata": {},
   "source": [
    "## Train Model"
   ]
  },
  {
   "cell_type": "code",
   "execution_count": null,
   "metadata": {
    "scrolled": true
   },
   "outputs": [],
   "source": [
    "#[0.02,0.007,0.002,0.0007,0.0002]\n",
    "import os\n",
    "DATE = \"10122022\"\n",
    "CONFIG = \"ITER\"\n",
    "LR = 2e-2\n",
    "DEPTH = 2\n",
    "BREADTH = 40\n",
    "run = \"01_100Adam_BFGS\"\n",
    "AF = \"swish\"\n",
    "RUN_NAME = f\"network_sweep_{DATE}_depth0{DEPTH}_breadth{BREADTH}_{AF}_lr{LR}-varying-short_lw1-10_{run}\"\n",
    "\n",
    "PATH = f\"./cefron/{CONFIG}/runs/{RUN_NAME}\"\n",
    "# Check whether the specified path exists or not\n",
    "isExist = os.path.exists(PATH)\n",
    "if not isExist:\n",
    "  # Create a new directory because it does not exist \n",
    "  os.makedirs(PATH)\n",
    "  print(\"The new directory is created!\")\n",
    "\n",
    "net = dde.maps.FNN([3 + 2 * mpol] + DEPTH * [BREADTH] + [1], AF, \"Glorot normal\")\n",
    "\n",
    "model = dde.Model(data, net)\n",
    "decay_rate = 1.0\n",
    "for i in range(1):\n",
    "  # Compile, train and save model\n",
    "  model.compile(\n",
    "      \"adam\", lr=LR/(decay_rate*(i+1)),\n",
    "      loss_weights=[1,1]\n",
    "  )\n",
    "  loss_history, train_state = model.train(epochs=100, display_every = 10)\n",
    "  dde.saveplot(loss_history, train_state, save_plot=True,issave=True, isplot=True,output_dir=f'./cefron/{CONFIG}/runs/{RUN_NAME}')"
   ]
  },
  {
   "cell_type": "markdown",
   "metadata": {},
   "source": [
    "#### After BFGS"
   ]
  },
  {
   "cell_type": "code",
   "execution_count": null,
   "metadata": {
    "scrolled": true
   },
   "outputs": [],
   "source": [
    "# Compile, train and save model\n",
    "model.compile(\n",
    "    \"L-BFGS-B\", \n",
    "    loss_weights=[1,100]\n",
    ")\n",
    "loss_history, train_state = model.train(epochs=1000, display_every = 10)\n",
    "dde.saveplot(loss_history, train_state, save_plot=True,issave=True, isplot=True,output_dir=f'./cefron/{CONFIG}/runs/{RUN_NAME}')\n"
   ]
  },
  {
   "cell_type": "code",
   "execution_count": null,
   "metadata": {},
   "outputs": [],
   "source": [
    "# Evaluation\n",
    "from utils.utils import evaluate_A, relative_error_plot\n",
    "#ITER = GS_parametrized(eps0, kappa0, delta0, Amax)\n",
    "ITER = GS_Linear(eps=eps[0], kappa=kappa[0], delta=delta[0])\n",
    "full, yfull, A, psi_pred_full, psi_true_full, error = evaluate_A(\n",
    "    ITER, model, Amax, num_param\n",
    ")\n",
    "nx = psi_true_full.shape[0]\n",
    "ny = psi_true_full.shape[0]\n",
    "psi_pred_parametrized = np.zeros(\n",
    "    (nx, ny, num_param, num_param, num_param, num_param)\n",
    ")\n",
    "psi_true_parametrized = np.zeros(\n",
    "    (nx, ny, num_param, num_param, num_param, num_param)\n",
    ")\n",
    "for i in range(num_param):\n",
    "    for j in range(num_param):\n",
    "        for k in range(num_param):\n",
    "            ITER = GS_Linear(eps=eps[i], kappa=kappa[j], delta=delta[k])\n",
    "            xfull, yfull, A, psi_pred_full, psi_true_full, error = evaluate_A(\n",
    "                ITER, model, Amax, num_param\n",
    "            )\n",
    "            psi_pred_parametrized[:, :, :, i, j, k] = psi_pred_full\n",
    "            psi_true_parametrized[:, :, :, i, j, k] = psi_true_full\n"
   ]
  },
  {
   "cell_type": "code",
   "execution_count": null,
   "metadata": {},
   "outputs": [],
   "source": [
    "plt.figure()\n",
    "plt.contour(xfull[:, :, 0], yfull[:, :, 0], psi_true_parametrized[:, :, 0, 0, 0, 0])\n",
    "plt.colorbar()\n",
    "plt.figure()\n",
    "plt.contour(xfull[:, :, 0], yfull[:, :, 0], psi_pred_parametrized[:, :, 0, 0, 0, 0])\n",
    "plt.colorbar()"
   ]
  },
  {
   "cell_type": "code",
   "execution_count": null,
   "metadata": {
    "scrolled": false
   },
   "outputs": [],
   "source": [
    "# Plotting Setup\n",
    "import matplotlib.colors as colors\n",
    "\n",
    "for i in range(0, num_param, 2):\n",
    "    plt.figure(i + 1, figsize=(20, 40))\n",
    "    q = 1\n",
    "    for j in range(0, num_param, 2):\n",
    "        for k in range(0, num_param, 2):\n",
    "            for kk in range(0, num_param, 2):\n",
    "#                 zoom = ((1 + eps[j])-(1 - eps[j]))*0.05\n",
    "#                 innerPoint = 1 - eps[j] - zoom\n",
    "#                 outerPoint = 1 + eps[j] + zoom\n",
    "#                 lowPoint   = -kappa[k] * eps[j] - zoom\n",
    "#                 highPoint  = kappa[k] * eps[j] + zoom\n",
    "                innerPoint = 0.5\n",
    "                outerPoint = 1.5\n",
    "                lowPoint = -1\n",
    "                highPoint = 1\n",
    "                plt.subplot(int(np.ceil(num_param / 2)) ** 3, 3, q)\n",
    "                levels = np.linspace(\n",
    "                    min(psi_true_parametrized[:, :, i, j, k, kk].reshape(-1)), 0, 10\n",
    "                )    \n",
    "                cp = plt.contour(\n",
    "                    xfull[:, :, i], yfull[:, :, i], \n",
    "                    psi_pred_parametrized[:, :, i, j, k, kk],\n",
    "                    levels=levels\n",
    "                )\n",
    "                plt.grid(True)\n",
    "                plt.axis(\n",
    "                    xmin=innerPoint,\n",
    "                    xmax=outerPoint,\n",
    "                    ymin=lowPoint, \n",
    "                    ymax=highPoint\n",
    "                )\n",
    "                plt.subplot(int(np.ceil(num_param / 2)) ** 3, 3, q + 1)\n",
    "                cp = plt.contour(\n",
    "                    xfull[:, :, i], \n",
    "                    yfull[:, :, i], \n",
    "                    psi_true_parametrized[:, :, i, j, k, kk],\n",
    "                    levels=levels\n",
    "                )\n",
    "                plt.grid(True)\n",
    "                plt.axis(\n",
    "                    xmin=innerPoint,\n",
    "                    xmax=outerPoint,\n",
    "                    ymin=lowPoint, \n",
    "                    ymax=highPoint\n",
    "                )\n",
    "                plt.subplot(int(np.ceil(num_param / 2)) ** 3, 3, q + 2)\n",
    "                errors = abs(psi_true_parametrized[:, :, i, j, k, kk] - psi_pred_parametrized[:, :, i, j, k, kk]) / np.max(\n",
    "                        abs(psi_true_parametrized[:, :, i, j, k, kk]))\n",
    "                cp = plt.contourf(\n",
    "                    xfull[:, :, i], \n",
    "                    yfull[:, :, i], \n",
    "                    errors,\n",
    "                    norm=colors.LogNorm(vmin=errors.min(), \n",
    "                                        vmax=errors.max()),\n",
    "                    #levels=levels\n",
    "                )\n",
    "                plt.grid(True)\n",
    "                plt.axis(\n",
    "                    xmin=innerPoint,\n",
    "                    xmax=outerPoint,\n",
    "                    ymin=lowPoint, \n",
    "                    ymax=highPoint\n",
    "                )\n",
    "                plt.colorbar()\n",
    "                q = q + 3"
   ]
  },
  {
   "cell_type": "code",
   "execution_count": null,
   "metadata": {},
   "outputs": [],
   "source": [
    "import time \n",
    "\n",
    "nx = 30\n",
    "ny = nx\n",
    "zoom = 0.2\n",
    "inner_point = (1 - 1.1*ITER.eps*(1+zoom))\n",
    "outer_point = (1 + 1.1*ITER.eps*(1+zoom))\n",
    "high_point  = (1.1*ITER.kappa * ITER.eps*(1+zoom) )\n",
    "low_point   = (-1.1*ITER.kappa * ITER.eps*(1+zoom) )\n",
    "x, y, A = np.meshgrid(\n",
    "    np.linspace(inner_point, outer_point, nx),\n",
    "    np.linspace(low_point, high_point, ny),\n",
    "    np.linspace(-Amax, Amax, num_param),\n",
    "    indexing='ij'\n",
    ")\n",
    "ones = np.ones(nx * ny * num_param)\n",
    "\n",
    "X = np.vstack((\n",
    "    np.ravel(x), np.ravel(y), np.ravel(A),\n",
    "    ITER.eps * ones, ITER.kappa * ones, ITER.delta * ones\n",
    ")).T\n",
    "print(X.shape)\n",
    "t1 = time.time()\n",
    "model.predict(X)\n",
    "t2 = time.time()\n",
    "print(t2 - t1)"
   ]
  },
  {
   "cell_type": "code",
   "execution_count": null,
   "metadata": {},
   "outputs": [],
   "source": []
  },
  {
   "cell_type": "code",
   "execution_count": null,
   "metadata": {},
   "outputs": [],
   "source": [
    "Rm_grid = Rm\n",
    "Zm_grid = Zm\n",
    "for i in range(mpol + 1):\n",
    "    print(i, Rm.shape, Rm_grid.shape)\n",
    "    Rm_grid = np.outer(Rm_grid, Rm).reshape(2 * mpol * np.ones(i + 2, dtype=int))\n",
    "    Zm_grid = np.outer(Zm_grid, Zm).reshape(2 * mpol * np.ones(i + 2, dtype=int))\n",
    "print(np.shape(Rm_grid), mpol, np.shape(Rm))"
   ]
  },
  {
   "cell_type": "code",
   "execution_count": null,
   "metadata": {},
   "outputs": [],
   "source": [
    "mpol * np.ones(i + 2, dtype=int)"
   ]
  },
  {
   "cell_type": "code",
   "execution_count": null,
   "metadata": {},
   "outputs": [],
   "source": []
  }
 ],
 "metadata": {
  "kernelspec": {
   "display_name": "Python 3",
   "language": "python",
   "name": "python3"
  },
  "language_info": {
   "codemirror_mode": {
    "name": "ipython",
    "version": 3
   },
   "file_extension": ".py",
   "mimetype": "text/x-python",
   "name": "python",
   "nbconvert_exporter": "python",
   "pygments_lexer": "ipython3",
   "version": "3.7.4"
  },
  "vscode": {
   "interpreter": {
    "hash": "0d2dbf7b25aa161dc56e9977236f9e4672965c715a37971ac3181e56a747c6cc"
   }
  }
 },
 "nbformat": 4,
 "nbformat_minor": 2
}
