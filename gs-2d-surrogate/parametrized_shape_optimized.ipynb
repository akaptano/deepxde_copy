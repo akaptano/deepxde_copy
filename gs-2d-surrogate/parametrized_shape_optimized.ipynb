{
 "cells": [
  {
   "cell_type": "code",
   "execution_count": 1,
   "metadata": {},
   "outputs": [],
   "source": [
    "from functools import wraps\n",
    "import time\n",
    "import numpy as np\n",
    "import unittest\n",
    "\n",
    "# Utilities for timing\n",
    "def timeit(func):\n",
    "    @wraps(func)\n",
    "    def timeit_wrapper(*args, **kwargs):\n",
    "        start_time = time.perf_counter()\n",
    "        result = func(*args, **kwargs)\n",
    "        end_time = time.perf_counter()\n",
    "        total_time = end_time - start_time\n",
    "        print(f'Function {func.__name__}{args} {kwargs} Took {total_time:.4f} seconds')\n",
    "        return result\n",
    "    return timeit_wrapper"
   ]
  },
  {
   "cell_type": "code",
   "execution_count": 2,
   "metadata": {},
   "outputs": [],
   "source": [
    "@timeit\n",
    "def gen_traindata(num,Arange, eps, kappa, delta):\n",
    "    N = num\n",
    "    num_param = len(Arange)\n",
    "\n",
    "    tau = np.linspace(0, 2 * np.pi, N)\n",
    "    R_ellipse = np.zeros((N, num_param, num_param, num_param, num_param))\n",
    "    Z_ellipse = np.zeros((N, num_param, num_param, num_param, num_param))\n",
    "    A_ellipse = np.zeros((N, num_param, num_param, num_param, num_param))\n",
    "    eps_ellipse = np.zeros((N, num_param, num_param, num_param, num_param))\n",
    "    kappa_ellipse = np.zeros((N, num_param, num_param, num_param, num_param))\n",
    "    delta_ellipse = np.zeros((N, num_param, num_param, num_param, num_param))\n",
    "    for i in range(num_param):\n",
    "        for j in range(num_param):\n",
    "            for k in range(num_param):\n",
    "                for kk in range(num_param):\n",
    "                    R_ellipse[:, i, j, k, kk] = 1 + eps[j] * np.cos(tau + np.arcsin(delta[kk]) * np.sin(tau))\n",
    "                    Z_ellipse[:, i, j, k, kk] = eps[j] * kappa[k] * np.sin(tau)\n",
    "                    A_ellipse[:, i, j, k, kk] = Arange[i]\n",
    "                    eps_ellipse[:, i, j, k, kk] = eps[j]\n",
    "                    kappa_ellipse[:, i, j, k, kk] = kappa[k]\n",
    "                    delta_ellipse[:, i, j, k, kk] = delta[kk]\n",
    "    \n",
    "    x_ellipse = np.transpose(\n",
    "        np.asarray([\n",
    "            R_ellipse, Z_ellipse, A_ellipse, \n",
    "            eps_ellipse, kappa_ellipse, delta_ellipse]), \n",
    "                             [1, 2, 3, 4, 5, 0])\n",
    "    x_ellipse = x_ellipse.reshape(N * num_param ** 4, 6)\n",
    "    uvals = np.zeros(len(x_ellipse)).reshape(len(x_ellipse), 1)\n",
    "    return x_ellipse, uvals\n",
    "\n",
    "@timeit\n",
    "def gen_traindata_optimized(num,Arange, eps, kappa, delta):\n",
    "\n",
    "    N = num\n",
    "    tau = np.linspace(0, 2 * np.pi, N)\n",
    "\n",
    "    # Generate a mesh grid of shape parameters and tau values\n",
    "    A_ellipse, eps_ellipse, kappa_ellipse, delta_ellipse, tau = np.meshgrid(Arange, eps, kappa, delta, tau, indexing='ij')\n",
    "\n",
    "    # Calculate R and Z values\n",
    "    R = 1 + eps_ellipse* np.cos(tau + np.arcsin(delta_ellipse) * np.sin(tau))\n",
    "    Z = eps_ellipse* kappa_ellipse * np.sin(tau)\n",
    "\n",
    "    # Stack the arrays into a single output array\n",
    "    output = np.stack((R,Z, A_ellipse, eps_ellipse, kappa_ellipse, delta_ellipse), axis=-1)\n",
    "\n",
    "    # Reshape the output array to have shape (len(Arange) * len(eps) * len(kappa) * len(delta) * len(tau), 6)\n",
    "    x_ellipse =output.reshape(-1, 6)\n",
    "    uvals = np.zeros(len(x_ellipse)).reshape(len(x_ellipse), 1)\n",
    "    return x_ellipse, uvals\n"
   ]
  },
  {
   "cell_type": "code",
   "execution_count": 3,
   "metadata": {},
   "outputs": [],
   "source": [
    "class TestFunctions(unittest.TestCase):\n",
    "    def test_functions(self):\n",
    "        # Define input values\n",
    "        Arange =  [-0.2, -0.1,  0.,   0.1 , 0.2] \n",
    "        eps =  [0.12, 0.22 ,0.32, 0.42, 0.52] \n",
    "        kappa =  [1. ,  1.35, 1.7,  2.05, 2.4 ] \n",
    "        delta =  [0.13, 0.23, 0.33 ,0.43, 0.53]\n",
    "        num = 1000\n",
    "        \n",
    "\n",
    "        # Call the first function and save the output]\n",
    "        x_ellipse, uvals= gen_traindata(num,Arange, eps, kappa, delta)\n",
    "        sorted_x_ellipse = np.sort(np.sort(x_ellipse, axis=1), axis=0)\n",
    "\n",
    "        # Call the second function and save the output\n",
    "        x_ellipse_test, uvals_test =gen_traindata_optimized(num,Arange, eps, kappa, delta)\n",
    "        sorted_x_ellipse_test = np.sort(np.sort(x_ellipse_test, axis=1), axis=0)\n",
    "\n",
    "        # Compare the outputs using np.testing.assert_array_almost_equal\n",
    "        np.testing.assert_array_almost_equal(sorted_x_ellipse, sorted_x_ellipse_test)"
   ]
  },
  {
   "cell_type": "code",
   "execution_count": 4,
   "metadata": {},
   "outputs": [
    {
     "name": "stderr",
     "output_type": "stream",
     "text": [
      "test_functions (__main__.TestFunctions) ... "
     ]
    },
    {
     "name": "stdout",
     "output_type": "stream",
     "text": [
      "Function gen_traindata(1000, [-0.2, -0.1, 0.0, 0.1, 0.2], [0.12, 0.22, 0.32, 0.42, 0.52], [1.0, 1.35, 1.7, 2.05, 2.4], [0.13, 0.23, 0.33, 0.43, 0.53]) {} Took 0.1196 seconds\n",
      "Function gen_traindata_optimized(1000, [-0.2, -0.1, 0.0, 0.1, 0.2], [0.12, 0.22, 0.32, 0.42, 0.52], [1.0, 1.35, 1.7, 2.05, 2.4], [0.13, 0.23, 0.33, 0.43, 0.53]) {} Took 0.0599 seconds\n"
     ]
    },
    {
     "name": "stderr",
     "output_type": "stream",
     "text": [
      "ok\n",
      "\n",
      "----------------------------------------------------------------------\n",
      "Ran 1 test in 0.768s\n",
      "\n",
      "OK\n"
     ]
    },
    {
     "data": {
      "text/plain": [
       "<unittest.runner.TextTestResult run=1 errors=0 failures=0>"
      ]
     },
     "execution_count": 4,
     "metadata": {},
     "output_type": "execute_result"
    }
   ],
   "source": [
    "'''Main'''\n",
    "# Create a test suite\n",
    "test_suite = unittest.TestLoader().loadTestsFromTestCase(TestFunctions)\n",
    "\n",
    "# Run the test suite\n",
    "unittest.TextTestRunner(verbosity=2).run(test_suite)"
   ]
  }
 ],
 "metadata": {
  "kernelspec": {
   "display_name": "deepxde_editable",
   "language": "python",
   "name": "python3"
  },
  "language_info": {
   "codemirror_mode": {
    "name": "ipython",
    "version": 3
   },
   "file_extension": ".py",
   "mimetype": "text/x-python",
   "name": "python",
   "nbconvert_exporter": "python",
   "pygments_lexer": "ipython3",
   "version": "3.9.7"
  },
  "orig_nbformat": 4
 },
 "nbformat": 4,
 "nbformat_minor": 2
}
