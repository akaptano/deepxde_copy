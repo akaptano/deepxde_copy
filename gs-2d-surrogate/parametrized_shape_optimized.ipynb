{
 "cells": [
  {
   "cell_type": "code",
   "execution_count": 8,
   "metadata": {},
   "outputs": [],
   "source": [
    "from functools import wraps\n",
    "import time\n",
    "import numpy as np\n",
    "import unittest\n",
    "\n",
    "# Utilities for timing\n",
    "def timeit(func):\n",
    "    @wraps(func)\n",
    "    def timeit_wrapper(*args, **kwargs):\n",
    "        start_time = time.perf_counter()\n",
    "        result = func(*args, **kwargs)\n",
    "        end_time = time.perf_counter()\n",
    "        total_time = end_time - start_time\n",
    "        print(f'Function {func.__name__}{args} {kwargs} Took {total_time:.4f} seconds')\n",
    "        return result\n",
    "    return timeit_wrapper"
   ]
  },
  {
   "cell_type": "code",
   "execution_count": 9,
   "metadata": {},
   "outputs": [],
   "source": [
    "@timeit\n",
    "def gen_traindata(num,Arange, eps, kappa, delta):\n",
    "    N = num\n",
    "    num_param = len(Arange)\n",
    "\n",
    "    tau = np.linspace(0, 2 * np.pi, N)\n",
    "    R_ellipse = np.zeros((N, num_param, num_param, num_param, num_param))\n",
    "    Z_ellipse = np.zeros((N, num_param, num_param, num_param, num_param))\n",
    "    A_ellipse = np.zeros((N, num_param, num_param, num_param, num_param))\n",
    "    eps_ellipse = np.zeros((N, num_param, num_param, num_param, num_param))\n",
    "    kappa_ellipse = np.zeros((N, num_param, num_param, num_param, num_param))\n",
    "    delta_ellipse = np.zeros((N, num_param, num_param, num_param, num_param))\n",
    "    for i in range(num_param):\n",
    "        for j in range(num_param):\n",
    "            for k in range(num_param):\n",
    "                for kk in range(num_param):\n",
    "                    R_ellipse[:, i, j, k, kk] = 1 + eps[j] * np.cos(tau + np.arcsin(delta[kk]) * np.sin(tau))\n",
    "                    Z_ellipse[:, i, j, k, kk] = eps[j] * kappa[k] * np.sin(tau)\n",
    "                    A_ellipse[:, i, j, k, kk] = Arange[i]\n",
    "                    eps_ellipse[:, i, j, k, kk] = eps[j]\n",
    "                    kappa_ellipse[:, i, j, k, kk] = kappa[k]\n",
    "                    delta_ellipse[:, i, j, k, kk] = delta[kk]\n",
    "    \n",
    "    x_ellipse = np.transpose(\n",
    "        np.asarray([\n",
    "            R_ellipse, Z_ellipse, A_ellipse, \n",
    "            eps_ellipse, kappa_ellipse, delta_ellipse]), \n",
    "                             [1, 2, 3, 4, 5, 0])\n",
    "    x_ellipse = x_ellipse.reshape(N * num_param ** 4, 6)\n",
    "    uvals = np.zeros(len(x_ellipse)).reshape(len(x_ellipse), 1)\n",
    "    return x_ellipse, uvals\n",
    "\n",
    "@timeit\n",
    "def gen_traindata_optimized(num,Arange, eps, kappa, delta):\n",
    "\n",
    "    N = num\n",
    "    tau = np.linspace(0, 2 * np.pi, N)\n",
    "\n",
    "    # Generate a mesh grid of shape parameters and tau values\n",
    "    A_ellipse, eps_ellipse, kappa_ellipse, delta_ellipse, tau = np.meshgrid(Arange, eps, kappa, delta, tau, indexing='ij')\n",
    "\n",
    "    # Calculate R and Z values\n",
    "    R = 1 + eps_ellipse* np.cos(tau + np.arcsin(delta_ellipse) * np.sin(tau))\n",
    "    Z = eps_ellipse* kappa_ellipse * np.sin(tau)\n",
    "\n",
    "    # Stack the arrays into a single output array\n",
    "    output = np.stack((R,Z, A_ellipse, eps_ellipse, kappa_ellipse, delta_ellipse), axis=-1)\n",
    "\n",
    "    # Reshape the output array to have shape (len(Arange) * len(eps) * len(kappa) * len(delta) * len(tau), 6)\n",
    "    x_ellipse =output.reshape(-1, 6)\n",
    "    uvals = np.zeros(len(x_ellipse)).reshape(len(x_ellipse), 1)\n",
    "    return x_ellipse, uvals\n"
   ]
  },
  {
   "cell_type": "code",
   "execution_count": 16,
   "metadata": {},
   "outputs": [],
   "source": [
    "class TestFunctions(unittest.TestCase):\n",
    "    def test_functions(self):\n",
    "        # Define input values\n",
    "        Arange =  [-0.2, -0.1,  0.,   0.1 , 0.2] \n",
    "        eps =  [0.12, 0.22 ,0.32, 0.42, 0.52] \n",
    "        kappa =  [1. ,  1.35, 1.7,  2.05, 2.4 ] \n",
    "        delta =  [0.13, 0.23, 0.33 ,0.43, 0.53]\n",
    "        num = 1000\n",
    "        \n",
    "\n",
    "        # Call the first function and save the output]\n",
    "        x_ellipse, uvals= gen_traindata(num,Arange, eps, kappa, delta)\n",
    "        sorted_x_ellipse = np.sort(np.sort(x_ellipse, axis=1), axis=0)\n",
    "\n",
    "        # Call the second function and save the output\n",
    "        x_ellipse_test, uvals_test =gen_traindata_optimized(num,Arange, eps, kappa, delta)\n",
    "        sorted_x_ellipse_test = np.sort(np.sort(x_ellipse_test, axis=1), axis=0)\n",
    "\n",
    "        # Compare the outputs using np.testing.assert_array_almost_equal\n",
    "        np.testing.assert_array_almost_equal(sorted_x_ellipse, sorted_x_ellipse_test)"
   ]
  },
  {
   "cell_type": "code",
   "execution_count": 17,
   "metadata": {},
   "outputs": [
    {
     "name": "stderr",
     "output_type": "stream",
     "text": [
      "test_functions (__main__.TestFunctions) ... "
     ]
    },
    {
     "name": "stdout",
     "output_type": "stream",
     "text": [
      "Function gen_traindata(100000, [-0.2, -0.1, 0.0, 0.1, 0.2], [0.12, 0.22, 0.32, 0.42, 0.52], [1.0, 1.35, 1.7, 2.05, 2.4], [0.13, 0.23, 0.33, 0.43, 0.53]) {} Took 11.4555 seconds\n",
      "Function gen_traindata_optimized(100000, [-0.2, -0.1, 0.0, 0.1, 0.2], [0.12, 0.22, 0.32, 0.42, 0.52], [1.0, 1.35, 1.7, 2.05, 2.4], [0.13, 0.23, 0.33, 0.43, 0.53]) {} Took 15.9925 seconds\n"
     ]
    },
    {
     "ename": "KeyboardInterrupt",
     "evalue": "",
     "output_type": "error",
     "traceback": [
      "\u001b[0;31m---------------------------------------------------------------------------\u001b[0m",
      "\u001b[0;31mKeyboardInterrupt\u001b[0m                         Traceback (most recent call last)",
      "Cell \u001b[0;32mIn[17], line 6\u001b[0m\n\u001b[1;32m      3\u001b[0m test_suite \u001b[39m=\u001b[39m unittest\u001b[39m.\u001b[39mTestLoader()\u001b[39m.\u001b[39mloadTestsFromTestCase(TestFunctions)\n\u001b[1;32m      5\u001b[0m \u001b[39m# Run the test suite\u001b[39;00m\n\u001b[0;32m----> 6\u001b[0m unittest\u001b[39m.\u001b[39;49mTextTestRunner(verbosity\u001b[39m=\u001b[39;49m\u001b[39m2\u001b[39;49m)\u001b[39m.\u001b[39;49mrun(test_suite)\n",
      "File \u001b[0;32m~/opt/anaconda3/lib/python3.9/unittest/runner.py:176\u001b[0m, in \u001b[0;36mTextTestRunner.run\u001b[0;34m(self, test)\u001b[0m\n\u001b[1;32m    174\u001b[0m     startTestRun()\n\u001b[1;32m    175\u001b[0m \u001b[39mtry\u001b[39;00m:\n\u001b[0;32m--> 176\u001b[0m     test(result)\n\u001b[1;32m    177\u001b[0m \u001b[39mfinally\u001b[39;00m:\n\u001b[1;32m    178\u001b[0m     stopTestRun \u001b[39m=\u001b[39m \u001b[39mgetattr\u001b[39m(result, \u001b[39m'\u001b[39m\u001b[39mstopTestRun\u001b[39m\u001b[39m'\u001b[39m, \u001b[39mNone\u001b[39;00m)\n",
      "File \u001b[0;32m~/opt/anaconda3/lib/python3.9/unittest/suite.py:84\u001b[0m, in \u001b[0;36mBaseTestSuite.__call__\u001b[0;34m(self, *args, **kwds)\u001b[0m\n\u001b[1;32m     83\u001b[0m \u001b[39mdef\u001b[39;00m \u001b[39m__call__\u001b[39m(\u001b[39mself\u001b[39m, \u001b[39m*\u001b[39margs, \u001b[39m*\u001b[39m\u001b[39m*\u001b[39mkwds):\n\u001b[0;32m---> 84\u001b[0m     \u001b[39mreturn\u001b[39;00m \u001b[39mself\u001b[39;49m\u001b[39m.\u001b[39;49mrun(\u001b[39m*\u001b[39;49margs, \u001b[39m*\u001b[39;49m\u001b[39m*\u001b[39;49mkwds)\n",
      "File \u001b[0;32m~/opt/anaconda3/lib/python3.9/unittest/suite.py:122\u001b[0m, in \u001b[0;36mTestSuite.run\u001b[0;34m(self, result, debug)\u001b[0m\n\u001b[1;32m    119\u001b[0m         \u001b[39mcontinue\u001b[39;00m\n\u001b[1;32m    121\u001b[0m \u001b[39mif\u001b[39;00m \u001b[39mnot\u001b[39;00m debug:\n\u001b[0;32m--> 122\u001b[0m     test(result)\n\u001b[1;32m    123\u001b[0m \u001b[39melse\u001b[39;00m:\n\u001b[1;32m    124\u001b[0m     test\u001b[39m.\u001b[39mdebug()\n",
      "File \u001b[0;32m~/opt/anaconda3/lib/python3.9/unittest/case.py:651\u001b[0m, in \u001b[0;36mTestCase.__call__\u001b[0;34m(self, *args, **kwds)\u001b[0m\n\u001b[1;32m    650\u001b[0m \u001b[39mdef\u001b[39;00m \u001b[39m__call__\u001b[39m(\u001b[39mself\u001b[39m, \u001b[39m*\u001b[39margs, \u001b[39m*\u001b[39m\u001b[39m*\u001b[39mkwds):\n\u001b[0;32m--> 651\u001b[0m     \u001b[39mreturn\u001b[39;00m \u001b[39mself\u001b[39;49m\u001b[39m.\u001b[39;49mrun(\u001b[39m*\u001b[39;49margs, \u001b[39m*\u001b[39;49m\u001b[39m*\u001b[39;49mkwds)\n",
      "File \u001b[0;32m~/opt/anaconda3/lib/python3.9/unittest/case.py:592\u001b[0m, in \u001b[0;36mTestCase.run\u001b[0;34m(self, result)\u001b[0m\n\u001b[1;32m    590\u001b[0m outcome\u001b[39m.\u001b[39mexpecting_failure \u001b[39m=\u001b[39m expecting_failure\n\u001b[1;32m    591\u001b[0m \u001b[39mwith\u001b[39;00m outcome\u001b[39m.\u001b[39mtestPartExecutor(\u001b[39mself\u001b[39m, isTest\u001b[39m=\u001b[39m\u001b[39mTrue\u001b[39;00m):\n\u001b[0;32m--> 592\u001b[0m     \u001b[39mself\u001b[39;49m\u001b[39m.\u001b[39;49m_callTestMethod(testMethod)\n\u001b[1;32m    593\u001b[0m outcome\u001b[39m.\u001b[39mexpecting_failure \u001b[39m=\u001b[39m \u001b[39mFalse\u001b[39;00m\n\u001b[1;32m    594\u001b[0m \u001b[39mwith\u001b[39;00m outcome\u001b[39m.\u001b[39mtestPartExecutor(\u001b[39mself\u001b[39m):\n",
      "File \u001b[0;32m~/opt/anaconda3/lib/python3.9/unittest/case.py:550\u001b[0m, in \u001b[0;36mTestCase._callTestMethod\u001b[0;34m(self, method)\u001b[0m\n\u001b[1;32m    549\u001b[0m \u001b[39mdef\u001b[39;00m \u001b[39m_callTestMethod\u001b[39m(\u001b[39mself\u001b[39m, method):\n\u001b[0;32m--> 550\u001b[0m     method()\n",
      "Cell \u001b[0;32mIn[16], line 17\u001b[0m, in \u001b[0;36mTestFunctions.test_functions\u001b[0;34m(self)\u001b[0m\n\u001b[1;32m     15\u001b[0m \u001b[39m# Call the second function and save the output\u001b[39;00m\n\u001b[1;32m     16\u001b[0m x_ellipse_test, uvals_test \u001b[39m=\u001b[39mgen_traindata_optimized(num,Arange, eps, kappa, delta)\n\u001b[0;32m---> 17\u001b[0m sorted_x_ellipse_test \u001b[39m=\u001b[39m np\u001b[39m.\u001b[39;49msort(np\u001b[39m.\u001b[39;49msort(x_ellipse_test, axis\u001b[39m=\u001b[39;49m\u001b[39m1\u001b[39;49m), axis\u001b[39m=\u001b[39;49m\u001b[39m0\u001b[39;49m)\n\u001b[1;32m     19\u001b[0m \u001b[39m# Compare the outputs using np.testing.assert_array_almost_equal\u001b[39;00m\n\u001b[1;32m     20\u001b[0m np\u001b[39m.\u001b[39mtesting\u001b[39m.\u001b[39massert_array_almost_equal(sorted_x_ellipse, sorted_x_ellipse_test)\n",
      "File \u001b[0;32m<__array_function__ internals>:200\u001b[0m, in \u001b[0;36msort\u001b[0;34m(*args, **kwargs)\u001b[0m\n",
      "File \u001b[0;32m~/.virtualenvs/deepxde_editable/lib/python3.9/site-packages/numpy/core/fromnumeric.py:1030\u001b[0m, in \u001b[0;36msort\u001b[0;34m(a, axis, kind, order)\u001b[0m\n\u001b[1;32m   1028\u001b[0m \u001b[39melse\u001b[39;00m:\n\u001b[1;32m   1029\u001b[0m     a \u001b[39m=\u001b[39m asanyarray(a)\u001b[39m.\u001b[39mcopy(order\u001b[39m=\u001b[39m\u001b[39m\"\u001b[39m\u001b[39mK\u001b[39m\u001b[39m\"\u001b[39m)\n\u001b[0;32m-> 1030\u001b[0m a\u001b[39m.\u001b[39;49msort(axis\u001b[39m=\u001b[39;49maxis, kind\u001b[39m=\u001b[39;49mkind, order\u001b[39m=\u001b[39;49morder)\n\u001b[1;32m   1031\u001b[0m \u001b[39mreturn\u001b[39;00m a\n",
      "\u001b[0;31mKeyboardInterrupt\u001b[0m: "
     ]
    }
   ],
   "source": [
    "'''Main'''\n",
    "# Create a test suite\n",
    "test_suite = unittest.TestLoader().loadTestsFromTestCase(TestFunctions)\n",
    "\n",
    "# Run the test suite\n",
    "unittest.TextTestRunner(verbosity=2).run(test_suite)"
   ]
  }
 ],
 "metadata": {
  "kernelspec": {
   "display_name": "deepxde_editable",
   "language": "python",
   "name": "python3"
  },
  "language_info": {
   "codemirror_mode": {
    "name": "ipython",
    "version": 3
   },
   "file_extension": ".py",
   "mimetype": "text/x-python",
   "name": "python",
   "nbconvert_exporter": "python",
   "pygments_lexer": "ipython3",
   "version": "3.9.7"
  },
  "orig_nbformat": 4
 },
 "nbformat": 4,
 "nbformat_minor": 2
}
