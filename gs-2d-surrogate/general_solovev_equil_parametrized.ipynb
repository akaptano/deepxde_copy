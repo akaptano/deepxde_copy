{
 "cells": [
  {
   "cell_type": "markdown",
   "metadata": {},
   "source": [
    "## Modified Slim"
   ]
  },
  {
   "cell_type": "code",
   "execution_count": 1,
   "metadata": {
    "scrolled": true
   },
   "outputs": [
    {
     "name": "stdout",
     "output_type": "stream",
     "text": [
      "Using TensorFlow 2 backend.\n",
      "\n",
      "WARNING:tensorflow:From /Users/alankaptanoglu/anaconda3/lib/python3.7/site-packages/tensorflow/python/compat/v2_compat.py:107: disable_resource_variables (from tensorflow.python.ops.variable_scope) is deprecated and will be removed in a future version.\n",
      "Instructions for updating:\n",
      "non-resource variables are not supported in the long term\n",
      "(100, 3)\n",
      "(100, 3)\n"
     ]
    },
    {
     "name": "stderr",
     "output_type": "stream",
     "text": [
      "ERROR:root:Internal Python error in the inspect module.\n",
      "Below is the traceback from this internal error.\n",
      "\n"
     ]
    },
    {
     "name": "stdout",
     "output_type": "stream",
     "text": [
      "Traceback (most recent call last):\n",
      "  File \"/Users/alankaptanoglu/anaconda3/lib/python3.7/site-packages/IPython/core/interactiveshell.py\", line 3326, in run_code\n",
      "    exec(code_obj, self.user_global_ns, self.user_ns)\n",
      "  File \"<ipython-input-1-551ce25e64b9>\", line 69, in <module>\n",
      "    x_domain = spatial_domain.random_points(n_test)\n",
      "  File \"/Users/alankaptanoglu/deepxde_copy/deepxde/geometry/geometry_2d.py\", line 198, in random_points\n",
      "    if self.inside(x_new):\n",
      "  File \"/Users/alankaptanoglu/deepxde_copy/deepxde/geometry/geometry_2d.py\", line 177, in inside\n",
      "    return is_point_in_path_A(self.Amax, x[:, 0:1], x[:, 1:2], x[:, 2:3], self.x_ellipse)\n",
      "  File \"/Users/alankaptanoglu/deepxde_copy/deepxde/geometry/geometry_2d.py\", line 768, in is_point_in_path_A\n",
      "    if abs(A) == Amax:\n",
      "KeyboardInterrupt\n",
      "\n",
      "During handling of the above exception, another exception occurred:\n",
      "\n",
      "Traceback (most recent call last):\n",
      "  File \"/Users/alankaptanoglu/anaconda3/lib/python3.7/site-packages/IPython/core/interactiveshell.py\", line 2040, in showtraceback\n",
      "    stb = value._render_traceback_()\n",
      "AttributeError: 'KeyboardInterrupt' object has no attribute '_render_traceback_'\n",
      "\n",
      "During handling of the above exception, another exception occurred:\n",
      "\n",
      "Traceback (most recent call last):\n",
      "  File \"/Users/alankaptanoglu/anaconda3/lib/python3.7/site-packages/IPython/core/ultratb.py\", line 1101, in get_records\n",
      "    return _fixed_getinnerframes(etb, number_of_lines_of_context, tb_offset)\n",
      "  File \"/Users/alankaptanoglu/anaconda3/lib/python3.7/site-packages/IPython/core/ultratb.py\", line 319, in wrapped\n",
      "    return f(*args, **kwargs)\n",
      "  File \"/Users/alankaptanoglu/anaconda3/lib/python3.7/site-packages/IPython/core/ultratb.py\", line 353, in _fixed_getinnerframes\n",
      "    records = fix_frame_records_filenames(inspect.getinnerframes(etb, context))\n",
      "  File \"/Users/alankaptanoglu/anaconda3/lib/python3.7/inspect.py\", line 1502, in getinnerframes\n",
      "    frameinfo = (tb.tb_frame,) + getframeinfo(tb, context)\n",
      "  File \"/Users/alankaptanoglu/anaconda3/lib/python3.7/inspect.py\", line 1460, in getframeinfo\n",
      "    filename = getsourcefile(frame) or getfile(frame)\n",
      "  File \"/Users/alankaptanoglu/anaconda3/lib/python3.7/inspect.py\", line 696, in getsourcefile\n",
      "    if getattr(getmodule(object, filename), '__loader__', None) is not None:\n",
      "  File \"/Users/alankaptanoglu/anaconda3/lib/python3.7/inspect.py\", line 742, in getmodule\n",
      "    os.path.realpath(f)] = module.__name__\n",
      "  File \"/Users/alankaptanoglu/anaconda3/lib/python3.7/posixpath.py\", line 395, in realpath\n",
      "    path, ok = _joinrealpath(filename[:0], filename, {})\n",
      "  File \"/Users/alankaptanoglu/anaconda3/lib/python3.7/posixpath.py\", line 429, in _joinrealpath\n",
      "    if not islink(newpath):\n",
      "  File \"/Users/alankaptanoglu/anaconda3/lib/python3.7/posixpath.py\", line 171, in islink\n",
      "    st = os.lstat(path)\n",
      "KeyboardInterrupt\n"
     ]
    },
    {
     "ename": "KeyboardInterrupt",
     "evalue": "",
     "output_type": "error",
     "traceback": [
      "\u001b[0;31m---------------------------------------------------------------------------\u001b[0m"
     ]
    }
   ],
   "source": [
    "from __future__ import absolute_import\n",
    "from __future__ import division\n",
    "from __future__ import print_function\n",
    "\n",
    "import numpy as np\n",
    "from matplotlib import pyplot as plt\n",
    "import deepxde as dde\n",
    "\n",
    "######################\n",
    "# ITER shape #\n",
    "######################\n",
    "eps = 0.32\n",
    "kappa = 1.7\n",
    "delta = 0.33\n",
    "Amax = 1e-5\n",
    "\n",
    "N1 = - (1 + np.arcsin(delta)) ** 2 / (eps * kappa ** 2)\n",
    "N2 = (1 - np.arcsin(delta)) ** 2 / (eps * kappa ** 2)\n",
    "N3 = - kappa / (eps * np.cos(np.arcsin(delta)) ** 2)\n",
    "\n",
    "def gen_traindata(num):\n",
    "    ######################\n",
    "    # ITER Configuration #\n",
    "    ######################\n",
    "\n",
    "    N = num\n",
    "    center = np.array([[0.0,0.0,0.0]])\n",
    "    tau = np.linspace(0, 2 * np.pi, N)\n",
    "    Arange = np.linspace(-Amax, Amax, N)\n",
    "    # Define boundary of ellipse\n",
    "    x_ellipse = np.asarray([1 + eps * np.cos(tau + np.arcsin(delta) * np.sin(tau)), \n",
    "                    eps * kappa * np.sin(tau), Arange]).T\n",
    "    print(x_ellipse.shape)\n",
    "    uvals = np.zeros(len(x_ellipse)).reshape(len(x_ellipse), 1)\n",
    "    return x_ellipse, uvals\n",
    "\n",
    "\n",
    "def pde_solovev(x, u):\n",
    "    psi = u[:, 0:1]\n",
    "    psi_r = dde.grad.jacobian(psi, x, i=0, j=0)\n",
    "    psi_rr = dde.grad.hessian(psi, x, i=0, j=0)\n",
    "    psi_zz = dde.grad.hessian(psi, x, i=1, j=1)\n",
    "    A = x[:, 2:3]\n",
    "    GS = psi_rr - psi_r / x[:, 0:1] + psi_zz - (1 - A) * x[:, 0:1] ** 2 - A\n",
    "    return GS\n",
    "\n",
    "def psi_r(x,u):\n",
    "    return dde.grad.jacobian(u, x, i=0, j=0)\n",
    "def psi_z(x,u):\n",
    "    return  dde.grad.jacobian(u, x, i=0, j=1)\n",
    "def psi_rr(x, u):\n",
    "    return dde.grad.hessian(u, x, i=0, j=0)\n",
    "def psi_zz(x, u):\n",
    "    return dde.grad.hessian(u, x, i=1, j=1)\n",
    "\n",
    "def boundary_outer(x, on_boundary):\n",
    "    return on_boundary and np.isclose([x[0], x[1]], [1 + eps, 0]).all()\n",
    "def boundary_inner(x, on_boundary):\n",
    "    return on_boundary and np.isclose([x[0], x[1]], [1 - eps, 0]).all()\n",
    "def boundary_high(x, on_boundary):\n",
    "    return on_boundary and np.isclose([x[0], x[1]], [1 - delta * eps, kappa * eps]).all()\n",
    "\n",
    "spatial_domain = dde.geometry.Ellipse_A(eps, kappa, delta, Amax=Amax) \n",
    "\n",
    "x, u = gen_traindata(100)\n",
    "\n",
    "n_test = 100\n",
    "x_test,u_test = gen_traindata(n_test)\n",
    "x_domain = spatial_domain.random_points(n_test)\n",
    "x_test = np.concatenate((x_test, x_domain))\n",
    "u_test = np.concatenate((u_test, np.zeros((n_test, 1))))\n",
    "\n",
    "bc135 = dde.PointSetBC(x,u)\n",
    "\n",
    "data = dde.data.PDE(\n",
    "    spatial_domain,\n",
    "    pde_solovev,\n",
    "    [bc135],\n",
    "    num_domain=2048,\n",
    "    num_boundary=0,\n",
    "    x_test=x_test,\n",
    "    y_test=u_test,\n",
    "    train_distribution=\"LHS\"\n",
    ")\n"
   ]
  },
  {
   "cell_type": "code",
   "execution_count": null,
   "metadata": {},
   "outputs": [],
   "source": [
    "# Plot collocation points for visual check\n",
    "fig,ax=plt.subplots(1, figsize=(5,5))\n",
    "ax.scatter(data.train_x_bc[:,0], data.train_x_bc[:,1], s = 2, color='r')\n",
    "ax.set_title('Collocation Points')\n",
    "ax.set_xlabel('R/R_0')\n",
    "ax.set_ylabel(r'$u(r,z=0)$')"
   ]
  },
  {
   "cell_type": "code",
   "execution_count": null,
   "metadata": {},
   "outputs": [],
   "source": [
    "from utils.gs_solovev_sol import GS_Linear\n",
    "# tokamak = GS_Linear(A=-0.155, eps= 2/6.2, kappa=1.6, delta=0.4)"
   ]
  },
  {
   "cell_type": "markdown",
   "metadata": {},
   "source": [
    "## Train Model"
   ]
  },
  {
   "cell_type": "code",
   "execution_count": null,
   "metadata": {
    "scrolled": true
   },
   "outputs": [],
   "source": [
    "#[0.02,0.007,0.002,0.0007,0.0002]\n",
    "import os\n",
    "DATE = \"10122022\"\n",
    "CONFIG = \"ITER\"\n",
    "LR = 2e-2\n",
    "DEPTH = 2\n",
    "BREADTH = 40\n",
    "run = \"01_100Adam_BFGS\"\n",
    "AF = \"swish\"\n",
    "RUN_NAME = f\"network_sweep_{DATE}_depth0{DEPTH}_breadth{BREADTH}_{AF}_lr{LR}-varying-short_lw1-10_{run}\"\n",
    "\n",
    "PATH = f\"./cefron/{CONFIG}/runs/{RUN_NAME}\"\n",
    "# Check whether the specified path exists or not\n",
    "isExist = os.path.exists(PATH)\n",
    "if not isExist:\n",
    "  # Create a new directory because it does not exist \n",
    "  os.makedirs(PATH)\n",
    "  print(\"The new directory is created!\")\n",
    "\n",
    "net = dde.maps.FNN([3] + DEPTH * [BREADTH] + [1], AF, \"Glorot normal\")\n",
    "\n",
    "model = dde.Model(data, net)\n",
    "decay_rate = 1.0\n",
    "for i in range(1):\n",
    "  # Compile, train and save model\n",
    "  model.compile(\n",
    "      \"adam\", lr=LR/(decay_rate*(i+1)),\n",
    "      loss_weights=[1,1]\n",
    "  )\n",
    "  loss_history, train_state = model.train(epochs=100, display_every = 10)\n",
    "  dde.saveplot(loss_history, train_state, save_plot=True,issave=True, isplot=True,output_dir=f'./cefron/{CONFIG}/runs/{RUN_NAME}')"
   ]
  },
  {
   "cell_type": "markdown",
   "metadata": {},
   "source": [
    "#### After BFGS"
   ]
  },
  {
   "cell_type": "code",
   "execution_count": null,
   "metadata": {
    "scrolled": true
   },
   "outputs": [],
   "source": [
    "# Compile, train and save model\n",
    "model.compile(\n",
    "    \"L-BFGS-B\",\n",
    "    loss_weights=[1,100]\n",
    ")\n",
    "loss_history, train_state = model.train(epochs=1000, display_every = 10)\n",
    "dde.saveplot(loss_history, train_state, save_plot=True,issave=True, isplot=True,output_dir=f'./cefron/{CONFIG}/runs/{RUN_NAME}')\n"
   ]
  },
  {
   "cell_type": "code",
   "execution_count": null,
   "metadata": {},
   "outputs": [],
   "source": [
    "# Evaluation\n",
    "from utils.utils import evaluate_A, relative_error_plot\n",
    "ITER = GS_Linear(eps=eps, kappa=kappa, delta=delta)\n",
    "xfull,yfull,A,psi_pred_full,psi_true_full,error=evaluate_A(ITER,model)\n",
    "# X_test = spatial_domain.random_points(300)\n"
   ]
  },
  {
   "cell_type": "code",
   "execution_count": null,
   "metadata": {},
   "outputs": [],
   "source": [
    "print(psi_true_full[:, :, 0], psi_true_full[:, :, -1], xfull.shape[2])\n",
    "plt.figure()\n",
    "plt.contour(xfull[:, :, 0], yfull[:, :, 0], psi_true_full[:, :, 0])\n",
    "plt.colorbar()\n",
    "plt.figure()\n",
    "plt.contour(xfull[:, :, 0], yfull[:, :, 0], psi_pred_full[:, :, 0])\n",
    "plt.colorbar()"
   ]
  },
  {
   "cell_type": "code",
   "execution_count": null,
   "metadata": {
    "scrolled": true
   },
   "outputs": [],
   "source": [
    "# Plotting Setup\n",
    "zoom = ((1 + eps)-(1 - eps))*0.05\n",
    "innerPoint = 1 - eps - zoom\n",
    "outerPoint = 1 + eps + zoom\n",
    "lowPoint   = -kappa * eps - zoom\n",
    "highPoint  = kappa * eps + zoom\n",
    "\n",
    "for i in range(0, xfull.shape[2], 5):\n",
    "    print(i)\n",
    "    plt.figure(i + 1, figsize=(10,10))\n",
    "\n",
    "    levels = np.linspace(min(psi_true_full[:, :, i].reshape(-1)),0,10)\n",
    "#     print(levels)\n",
    "    \n",
    "    plt.subplot(2, 2, 1)\n",
    "    # Plot 1 - PINN Solution\n",
    "    cp = plt.contour(xfull[:, :, i], yfull[:, :, i], psi_pred_full[:, :, i],levels=levels)\n",
    "    # ax1.scatter(observe_x[:,0], observe_x[:,1], s = 2,c=\"black\")\n",
    "    #plt.colorbar(cp,ax=ax1).formatter.set_powerlimits((0, 0)) \n",
    "    #ax1.set_title('PINN Solution')\n",
    "    #ax1.set_xlabel(r'$R/R_{0}$')\n",
    "    #ax1.set_ylabel(r'$Z/R_{0}$')\n",
    "    plt.grid(True)\n",
    "    plt.axis(xmin=innerPoint,xmax=outerPoint,ymin=lowPoint, ymax=highPoint)\n",
    "\n",
    "    # Plot 2 - Analytic Solution\n",
    "    plt.subplot(2, 2, 2)\n",
    "    cp = plt.contour(xfull[:, :, i], yfull[:, :, i], psi_true_full[:, :, i],levels=levels)\n",
    "    #plt.colorbar(cp,ax=ax2).formatter.set_powerlimits((0, 0))\n",
    "    #ax2.set_title('Analytical Solution')\n",
    "    #ax2.set_xlabel(r'$R/R_{0}$')\n",
    "    #ax2.set_ylabel(r'$Z/R_{0}$')\n",
    "    plt.grid(True)\n",
    "    plt.axis(xmin=innerPoint,xmax=outerPoint,ymin=lowPoint, ymax=highPoint)\n",
    "\n",
    "    # Plot 4 - Relative Error\n",
    "    plt.subplot(2, 2, 3)\n",
    "    cp = plt.contourf(xfull[:, :, i], yfull[:, :, i], error[:, :, i])  #,levels=levels)\n",
    "    #fig.colorbar(cp,ax=ax3).formatter.set_powerlimits((0, 0))\n",
    "    #ax2.set_title('Analytical Solution')\n",
    "    #ax3.set_xlabel(r'$R/R_{0}$')\n",
    "    #ax3.set_ylabel(r'$Z/R_{0}$')\n",
    "    plt.axis(xmin=innerPoint,xmax=outerPoint,ymin=lowPoint, ymax=highPoint)\n",
    "    plt.colorbar()\n",
    "\n",
    "    fig.tight_layout()\n",
    "    #plt.savefig(f'./cefron/{CONFIG}/runs/{RUN_NAME}/analysis_after_BFGS_A' + str(A[0, 0, i]) + ' .jpg')\n",
    "\n"
   ]
  },
  {
   "cell_type": "code",
   "execution_count": null,
   "metadata": {},
   "outputs": [],
   "source": []
  }
 ],
 "metadata": {
  "kernelspec": {
   "display_name": "Python 3",
   "language": "python",
   "name": "python3"
  },
  "language_info": {
   "codemirror_mode": {
    "name": "ipython",
    "version": 3
   },
   "file_extension": ".py",
   "mimetype": "text/x-python",
   "name": "python",
   "nbconvert_exporter": "python",
   "pygments_lexer": "ipython3",
   "version": "3.7.4"
  },
  "vscode": {
   "interpreter": {
    "hash": "0d2dbf7b25aa161dc56e9977236f9e4672965c715a37971ac3181e56a747c6cc"
   }
  }
 },
 "nbformat": 4,
 "nbformat_minor": 2
}
