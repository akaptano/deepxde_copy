{
 "cells": [
  {
   "cell_type": "markdown",
   "metadata": {},
   "source": [
    "## Analytic Solution (Brute Force)"
   ]
  },
  {
   "cell_type": "code",
   "execution_count": 46,
   "metadata": {},
   "outputs": [],
   "source": [
    "import numpy as np\n",
    "import tensorflow as tf\n",
    "import matplotlib.pyplot as plt\n",
    "\n",
    "class GS_Linear:\n",
    "    def __init__(self, A, eps, kappa, delta):\n",
    "\n",
    "        self.A = A\n",
    "        self.eps = eps\n",
    "        self.kappa = kappa\n",
    "        self.delta = delta\n",
    "\n",
    "        self.N1 = (1 + np.arcsin(self.delta)) ** 2 / (self.eps * self.kappa ** 2)\n",
    "        self.N2 = - (1 - np.arcsin(self.delta)) ** 2 / (self.eps * self.kappa ** 2)\n",
    "        self.N3 = - self.kappa / (self.eps * np.cos(np.arcsin(self.delta)) ** 2)\n",
    "        self.get_UX = [self.get_U0,self.get_U1,self.get_U2,self.get_U3,self.get_U4,self.get_U5,self.get_U6,self.get_UP]\n",
    "   \n",
    "        # Define Boundary Constraints\n",
    "        self.get_BCs()\n",
    "        self.solve_coefficients()   \n",
    "            \n",
    "    def psi_func(self, x, y):\n",
    "        '''\n",
    "        Input:\n",
    "        cj: a list of coefficients for each polynomials \n",
    "        x: x point to be calculated\n",
    "        y: y point to be calculated\n",
    "        Output:\n",
    "        psi: flux function at a given point for GS w/ Solovev\n",
    "        '''\n",
    "        # Get polynomial values for a given point\n",
    "        UH = np.array([i(x,y) for i in self.get_UX[:-1]])\n",
    "        cj_UH = UH*self.cj[0]\n",
    "        return self.get_UP(x,y)+ sum(cj_UH)\n",
    "        \n",
    "    def solve_coefficients(self):\n",
    "        # UH\n",
    "        self.UH = np.concatenate(([self.BC1[0]], [self.BC2[0]],[self.BC3[0]],[self.BC4[0]], [self.BC5[0]], [self.BC6[0]], [self.BC7[0]]), axis=0) \n",
    "        self.UP = np.concatenate(([-1*self.BC1[1]], [-1*self.BC2[1]],[-1*self.BC3[1]],[-1*self.BC4[1]], [-1*self.BC5[1]], [-1*self.BC6[1]], [-1*self.BC7[1]]), axis=0) \n",
    "        self.cj = np.linalg.solve(self.UH, self.UP).T\n",
    "    \n",
    "    def get_BCs(self):\n",
    "        # outer point\n",
    "        x,y = self.outer_point()\n",
    "        self.BC1 = self.get_point_flux(x,y)\n",
    "        dUH_dyy, dUP_dyy = self.get_point_curvature_dyy(x,y)\n",
    "        dUH_dx,  dUP_dx  = self.get_point_slope_dx(x,y)\n",
    "        self.BC2 = (dUH_dyy + self.N1*dUH_dx, \\\n",
    "                     dUP_dyy + self.N1*dUP_dx)\n",
    "        # inner point\n",
    "        x,y = self.inner_point()\n",
    "        self.BC3 = self.get_point_flux(x,y)\n",
    "        dUH_dyy, dUP_dyy = self.get_point_curvature_dyy(x,y)\n",
    "        dUH_dx,  dUP_dx  = self.get_point_slope_dx(x,y)\n",
    "        self.BC4 = (dUH_dyy + self.N2*dUH_dx, \\\n",
    "                    dUP_dyy + self.N2*dUP_dx)\n",
    "        # high point\n",
    "        x,y = self.high_point()\n",
    "        self.BC5 = self.get_point_flux(x,y)\n",
    "        self.BC6  = self.get_point_slope_dx(x,y)\n",
    "        dUH_dxx, dUP_dxx = self.get_point_curvature_dxx(x,y)\n",
    "        dUH_dy,  dUP_dy  = self.get_point_slope_dy(x,y)\n",
    "        self.BC7 = (dUH_dxx + self.N3*dUH_dy, \\\n",
    "                      dUP_dxx + self.N3*dUP_dy)\n",
    "       \n",
    "    def get_UP(self,x,y):\n",
    "        return self.A/ 2.0 *  x ** 2 * np.log(x)  + (1 - self.A)/ 8.0 * x ** 4  + y**2*0 \n",
    "    def get_UP_dx(self,x,y):\n",
    "        return x*(2.0*self.A*np.log(x)+(1-self.A)*x**2+self.A)/2.0\n",
    "    def get_UP_dxx(self,x,y):\n",
    "        return (2*self.A*np.log(x)+(3.0-3.0*self.A)*x**2+3*self.A)/2.0\n",
    "    def get_UP_dy(self,x,y):\n",
    "        return 0.0\n",
    "    def get_UP_dyy(self,x,y):\n",
    "        return 0.0\n",
    "\n",
    "    def get_U0(self,x,y):\n",
    "        return 1.0 + x*0 +y*0\n",
    "    def get_U0_dx(self,x,y):\n",
    "        return 0.0 \n",
    "    def get_U0_dxx(self,x,y):\n",
    "        return 0.0 \n",
    "    def get_U0_dy(self,x,y):\n",
    "        return 0.0 \n",
    "    def get_U0_dyy(self,x,y):\n",
    "        return 0.0 \n",
    "    \n",
    "\n",
    "    def get_U1(self,x,y):\n",
    "        return x ** 2 + y*0\n",
    "    def get_U1_dx(self,x,y):\n",
    "        return 2.0*x\n",
    "    def get_U1_dxx(self,x,y):\n",
    "        return 2.0\n",
    "    def get_U1_dy(self,x,y):\n",
    "        return 0.0\n",
    "    def get_U1_dyy(self,x,y):\n",
    "        return 0.0\n",
    "\n",
    "    def get_U2(self,x,y):\n",
    "        return y ** 2 - x ** 2 * np.log(x) + y*0\n",
    "    def get_U2_dx(self,x,y):\n",
    "        return -x*(2.0*np.log(x)+1.0)\n",
    "    def get_U2_dxx(self,x,y):\n",
    "        return -2.0 * np.log(x) - 3.0\n",
    "    def get_U2_dy(self,x,y):\n",
    "        return x*0 + 2.0*y\n",
    "    def get_U2_dyy(self,x,y):\n",
    "        return 2.0 + x*0 +y*0\n",
    "\n",
    "    def get_U3(self,x,y):\n",
    "        return x ** 4 - 4.0 * x ** 2 * y ** 2\n",
    "    def get_U3_dx(self,x,y):\n",
    "        return 4*x**3-8*y**2*x\n",
    "    def get_U3_dxx(self,x,y):\n",
    "        return 12*x**2-8*y**2\n",
    "    def get_U3_dy(self,x,y):\n",
    "        return -8.0*x**2*y\n",
    "    def get_U3_dyy(self,x,y):\n",
    "        return -8*x**2\n",
    "\n",
    "    def get_U4(self,x,y):\n",
    "        return 2.0 * y ** 4 - 9.0 * x ** 2 * y ** 2 - (12.0 * x ** 2 * y ** 2 - 3 * x ** 4) * np.log(x) \n",
    "    def get_U4_dx(self,x,y):\n",
    "        return 3.0*x*((4*x**2-8*y**2)*np.log(x)+x**2-10.0*y**2)\n",
    "    def get_U4_dxx(self,x,y):\n",
    "        return (36.0*x**2-24.0*y**2)*np.log(x)+21*x**2-54.0*y**2 \n",
    "    def get_U4_dy(self,x,y):\n",
    "        return 8.0*y**3+(-24.0*x**2*np.log(x)-18.0*x**2)*y\n",
    "    def get_U4_dyy(self,x,y):\n",
    "        return 24.0*y**2-24*x**2*np.log(x)-18*x**2\n",
    "\n",
    "    def get_U5(self,x,y):\n",
    "        return x ** 6 - 12.0 * x ** 4 * y ** 2 + 8.0 * x ** 2 * y ** 4\n",
    "    def get_U5_dx(self,x,y):\n",
    "        return 6.0*x**5-48.0*y**2*x**3+16*y**4*x\n",
    "    def get_U5_dxx(self,x,y):\n",
    "        return 30*x**4-144*y**2*x**2+16*y**4\n",
    "    def get_U5_dy(self,x,y):\n",
    "        return 32.0*x**2*y**3-24.0*x**4*y\n",
    "    def get_U5_dyy(self,x,y):\n",
    "        return 96.0*x**2*y**2-24.0*x**4\n",
    "\n",
    "\n",
    "    def get_U6(self,x,y):\n",
    "        return 8.0 * y ** 6 - 140 * x ** 2 * y ** 4 + 75.0 * x ** 4 * y ** 2 - (120.0 * x ** 2 * y ** 4 - 180 * x ** 4 * y ** 2 + 15.0 * x ** 6) * np.log(x)\n",
    "    def get_U6_dx(self,x,y):\n",
    "        return -5*x*((18.0*x**4 - 144 * y**2*x**2 + 48.0*y**4)*np.log(x)+3.0*x**4-96.0*y**2*x**2+80.0*y**4)\n",
    "    def get_U6_dxx(self,x,y):\n",
    "        return (-450.0*x**4+2160*y**2*x**2-240*y**4)*np.log(x)-165.0*x**4+2160*y**2*x**2-640*y**4\n",
    "    def get_U6_dy(self,x,y):\n",
    "        return 48.0*y**5+(-480.0*x**2*np.log(x)-560*x**2)*y**3+(360*x**4*np.log(x)+150*x**4)*y\n",
    "    def get_U6_dyy(self,x,y):\n",
    "        return 240.0*y**4+(-1440.0*x**2*np.log(x)-1680*x**2)*y**2+(360*x**4*np.log(x)+150*x**4)\n",
    "\n",
    "    def outer_point(self):\n",
    "        return 1.0+self.eps, 0.0\n",
    "\n",
    "    def inner_point(self):\n",
    "        return 1.0-self.eps, 0.0\n",
    "\n",
    "    def high_point(self):\n",
    "        return 1.0-self.delta*self.eps, self.kappa*self.eps\n",
    "\n",
    "    def get_point_flux(self,x,y):\n",
    "        U0 = self.get_U0(x,y)\n",
    "        U1 = self.get_U1(x,y)\n",
    "        U2 = self.get_U2(x,y)\n",
    "        U3 = self.get_U3(x,y)\n",
    "        U4 = self.get_U4(x,y)\n",
    "        U5 = self.get_U5(x,y)\n",
    "        U6 = self.get_U6(x,y)\n",
    "        UH = [U0,U1,U2,U3,U4,U5,U6]\n",
    "        UP = [self.get_UP(x,y)]\n",
    "        return np.array(UH), np.array(UP)\n",
    "\n",
    "    def get_point_slope_dx(self, x,y):\n",
    "        U0 = self.get_U0_dx(x,y)\n",
    "        U1 = self.get_U1_dx(x,y)\n",
    "        U2 = self.get_U2_dx(x,y)\n",
    "        U3 = self.get_U3_dx(x,y)\n",
    "        U4 = self.get_U4_dx(x,y)\n",
    "        U5 = self.get_U5_dx(x,y)\n",
    "        U6 = self.get_U6_dx(x,y)\n",
    "        UH = [U0,U1,U2,U3,U4,U5,U6]\n",
    "        UP = [self.get_UP_dx(x,y)]\n",
    "        return np.array(UH), np.array(UP)\n",
    "    def get_point_slope_dy(self, x,y):\n",
    "        U0 = self.get_U0_dy(x,y)\n",
    "        U1 = self.get_U1_dy(x,y)\n",
    "        U2 = self.get_U2_dy(x,y)\n",
    "        U3 = self.get_U3_dy(x,y)\n",
    "        U4 = self.get_U4_dy(x,y)\n",
    "        U5 = self.get_U5_dy(x,y)\n",
    "        U6 = self.get_U6_dy(x,y)\n",
    "        UH = [U0,U1,U2,U3,U4,U5,U6]\n",
    "        UP = [self.get_UP_dy(x,y)]\n",
    "        return np.array(UH), np.array(UP)\n",
    "    def get_point_curvature_dyy(self, x,y):\n",
    "        U0 = self.get_U0_dyy(x,y)\n",
    "        U1 = self.get_U1_dyy(x,y)\n",
    "        U2 = self.get_U2_dyy(x,y)\n",
    "        U3 = self.get_U3_dyy(x,y)\n",
    "        U4 = self.get_U4_dyy(x,y)\n",
    "        U5 = self.get_U5_dyy(x,y)\n",
    "        U6 = self.get_U6_dyy(x,y)\n",
    "        UH = [U0,U1,U2,U3,U4,U5,U6]\n",
    "        UP = [self.get_UP_dyy(x,y)]\n",
    "        return np.array(UH), np.array(UP)\n",
    "    def get_point_curvature_dxx(self, x,y):\n",
    "        U0 = self.get_U0_dxx(x,y)\n",
    "        U1 = self.get_U1_dxx(x,y)\n",
    "        U2 = self.get_U2_dxx(x,y)\n",
    "        U3 = self.get_U3_dxx(x,y)\n",
    "        U4 = self.get_U4_dxx(x,y)\n",
    "        U5 = self.get_U5_dxx(x,y)\n",
    "        U6 = self.get_U6_dxx(x,y)\n",
    "        UH = [U0,U1,U2,U3,U4,U5,U6]\n",
    "        UP = [self.get_UP_dxx(x,y)]\n",
    "        return np.array(UH), np.array(UP)\n"
   ]
  },
  {
   "cell_type": "markdown",
   "metadata": {},
   "source": [
    "#### Test"
   ]
  },
  {
   "cell_type": "code",
   "execution_count": 58,
   "metadata": {},
   "outputs": [],
   "source": [
    "# tokamak = GS_Linear(A=-0.155, eps= 2/6.2, kappa=1.6, delta=0.4)\n",
    "tokamak = GS_Linear(A=-0.155, eps= 0.99, kappa=1.01, delta=0.001)"
   ]
  },
  {
   "cell_type": "code",
   "execution_count": 59,
   "metadata": {},
   "outputs": [
    {
     "data": {
      "text/plain": [
       "2.052951492772098"
      ]
     },
     "execution_count": 59,
     "metadata": {},
     "output_type": "execute_result"
    }
   ],
   "source": [
    "x_test1 = 1+tokamak.eps\n",
    "tokamak.A/2*(x_test1)**2*np.log(x_test1)+(1-tokamak.A)/8.0*(x_test1)**4"
   ]
  },
  {
   "cell_type": "code",
   "execution_count": 60,
   "metadata": {},
   "outputs": [
    {
     "data": {
      "text/plain": [
       "4.151840046113685"
      ]
     },
     "execution_count": 60,
     "metadata": {},
     "output_type": "execute_result"
    }
   ],
   "source": [
    "tokamak.get_UP_dyy(x_test1,0)+tokamak.N1*tokamak.get_UP_dx(x_test1,0)"
   ]
  },
  {
   "cell_type": "code",
   "execution_count": 61,
   "metadata": {},
   "outputs": [
    {
     "data": {
      "text/plain": [
       "array([[-2.05295149e+00],\n",
       "       [-4.15184005e+00],\n",
       "       [-3.56915127e-05],\n",
       "       [ 6.28861942e-03],\n",
       "       [-1.43880735e-01],\n",
       "       [-4.98516621e-01],\n",
       "       [-1.49672487e+00]])"
      ]
     },
     "execution_count": 61,
     "metadata": {},
     "output_type": "execute_result"
    }
   ],
   "source": [
    "tokamak.UP"
   ]
  },
  {
   "cell_type": "markdown",
   "metadata": {},
   "source": [
    "#### Visualization"
   ]
  },
  {
   "cell_type": "code",
   "execution_count": 62,
   "metadata": {},
   "outputs": [],
   "source": [
    "def psi_func(self, x, y):\n",
    "    '''\n",
    "    Input:\n",
    "       cj: a list of coefficients for each polynomials \n",
    "       x: x point to be calculated\n",
    "       y: y point to be calculated\n",
    "    Output:\n",
    "       psi: flux function at a given point for GS w/ Solovev\n",
    "    '''\n",
    "    # Get polynomial values for a given point\n",
    "    UH = np.array([i(x,y) for i in self.get_UX[:-1]])\n",
    "    cj_UH = UH*self.cj[0]\n",
    "    return self.get_UP(x,y)+ sum(cj_UH)"
   ]
  },
  {
   "cell_type": "code",
   "execution_count": 63,
   "metadata": {},
   "outputs": [],
   "source": [
    "# make mesh\n",
    "nx = 100\n",
    "ny = 100\n",
    "x, y = np.meshgrid(\n",
    "    np.linspace(1 - tokamak.eps, 1 + tokamak.eps, nx),\n",
    "    np.linspace(-tokamak.kappa * tokamak.eps, tokamak.kappa * tokamak.eps, ny),\n",
    ")\n",
    "X = np.vstack((np.ravel(x), np.ravel(y))).T\n",
    "\n",
    "# Calculate corresponding psi\n",
    "psi = []\n",
    "for point in X:\n",
    "    psi.append(tokamak.psi_func(point[0],point[1]))\n",
    "psi_true = np.reshape(psi, [100, 100])\n",
    "\n",
    "\n"
   ]
  },
  {
   "cell_type": "code",
   "execution_count": 64,
   "metadata": {},
   "outputs": [],
   "source": [
    "anchor = [[tokamak.outer_point()[0],tokamak.inner_point()[0],tokamak.high_point()[0]],\n",
    "            [tokamak.outer_point()[1],tokamak.inner_point()[1],tokamak.high_point()[1]]]"
   ]
  },
  {
   "cell_type": "code",
   "execution_count": 65,
   "metadata": {},
   "outputs": [
    {
     "data": {
      "image/png": "[encoded data removed]",
      "text/plain": [
       "<Figure size 864x432 with 2 Axes>"
      ]
     },
     "metadata": {
      "needs_background": "light"
     },
     "output_type": "display_data"
    }
   ],
   "source": [
    "fig,ax=plt.subplots(1,1,figsize=(12,6))\n",
    "cp = ax.contourf(x, y, psi_true)\n",
    "fig.colorbar(cp) # Add a colorbar to a plot\n",
    "ax.set_title('Filled Contours Plot')\n",
    "ax.scatter(anchor[0], anchor[1], s = 10,c=\"red\")\n",
    "#ax.set_xlabel('x (cm)')\n",
    "ax.set_ylabel('y (cm)')\n",
    "plt.show()\n",
    "\n"
   ]
  },
  {
   "cell_type": "code",
   "execution_count": null,
   "metadata": {},
   "outputs": [],
   "source": []
  }
 ],
 "metadata": {
  "kernelspec": {
   "display_name": "Python 3.8.13 ('deepxde')",
   "language": "python",
   "name": "python3"
  },
  "language_info": {
   "codemirror_mode": {
    "name": "ipython",
    "version": 3
   },
   "file_extension": ".py",
   "mimetype": "text/x-python",
   "name": "python",
   "nbconvert_exporter": "python",
   "pygments_lexer": "ipython3",
   "version": "3.8.13"
  },
  "orig_nbformat": 4,
  "vscode": {
   "interpreter": {
    "hash": "af4b13c4010b9d93e999463540317e485122c76adaee73a1006d87810073944e"
   }
  }
 },
 "nbformat": 4,
 "nbformat_minor": 2
}
